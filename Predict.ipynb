{
 "cells": [
  {
   "cell_type": "markdown",
   "metadata": {},
   "source": [
    "## Lets Predict a Usecase\n",
    "- Let's assume, we have the data: Age=25, Income=60k$, Spending Score=55\n",
    "- How we can assign a cluster to the customer??"
   ]
  },
  {
   "cell_type": "code",
   "execution_count": 5,
   "metadata": {},
   "outputs": [
    {
     "name": "stdout",
     "output_type": "stream",
     "text": [
      "Requirement already satisfied: joblib in /home/prasun/python_workspace/penv/lib/python3.11/site-packages (1.4.2)\n"
     ]
    }
   ],
   "source": [
    "#Installing Dependencies\n",
    "!pip install joblib\n",
    "import joblib  \n",
    "   \n",
    "import warnings\n",
    "warnings.filterwarnings('ignore')"
   ]
  },
  {
   "cell_type": "code",
   "execution_count": 6,
   "metadata": {},
   "outputs": [
    {
     "name": "stdout",
     "output_type": "stream",
     "text": [
      "Cluster Assigned: 2\n"
     ]
    }
   ],
   "source": [
    "# Load the model\n",
    "pipeline = joblib.load(\"kmeans_customer_pipeline.pkl\")\n",
    "\n",
    "# Predict cluster for a new customer\n",
    "new_customer = [[25, 60, 55]]  # Example: Age=25, Income=60k$, Spending Score=55\n",
    "cluster_label = pipeline.predict(new_customer)\n",
    "\n",
    "print(\"Cluster Assigned:\", cluster_label[0])\n"
   ]
  }
 ],
 "metadata": {
  "kernelspec": {
   "display_name": "myproject",
   "language": "python",
   "name": "myproject"
  },
  "language_info": {
   "codemirror_mode": {
    "name": "ipython",
    "version": 3
   },
   "file_extension": ".py",
   "mimetype": "text/x-python",
   "name": "python",
   "nbconvert_exporter": "python",
   "pygments_lexer": "ipython3",
   "version": "3.11.6"
  }
 },
 "nbformat": 4,
 "nbformat_minor": 2
}
